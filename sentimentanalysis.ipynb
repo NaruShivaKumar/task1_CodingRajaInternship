{
  "nbformat": 4,
  "nbformat_minor": 0,
  "metadata": {
    "colab": {
      "provenance": [],
      "authorship_tag": "ABX9TyNejmPwrk/C96nBk8IfnS6o",
      "include_colab_link": true
    },
    "kernelspec": {
      "name": "python3",
      "display_name": "Python 3"
    },
    "language_info": {
      "name": "python"
    }
  },
  "cells": [
    {
      "cell_type": "markdown",
      "metadata": {
        "id": "view-in-github",
        "colab_type": "text"
      },
      "source": [
        "<a href=\"https://colab.research.google.com/github/NaruShivaKumar/task1_CodingRajaInternship/blob/main/sentimentanalysis.ipynb\" target=\"_parent\"><img src=\"https://colab.research.google.com/assets/colab-badge.svg\" alt=\"Open In Colab\"/></a>"
      ]
    },
    {
      "cell_type": "code",
      "source": [
        "from textblob import TextBlob\n",
        "import pandas as pd\n",
        "\n",
        "# Sample customer reviews\n",
        "reviews = [\n",
        "    \"I love this product! It's amazing.\",\n",
        "    \"The quality is really poor. Very disappointed.\",\n",
        "    \"Average experience, nothing special.\",\n",
        "    \"Great value for the price.\"\n",
        "]\n",
        "\n",
        "# Convert reviews to TextBlob objects and analyze sentiment\n",
        "sentiments = []\n",
        "for review in reviews:\n",
        "    blob = TextBlob(review)\n",
        "    sentiment = blob.sentiment.polarity\n",
        "    sentiments.append(sentiment)\n",
        "\n",
        "# Convert sentiment scores to labels (positive, negative, neutral)\n",
        "sentiment_labels = []\n",
        "for sentiment in sentiments:\n",
        "    if sentiment > 0:\n",
        "        sentiment_labels.append(\"Positive\")\n",
        "    elif sentiment < 0:\n",
        "        sentiment_labels.append(\"Negative\")\n",
        "    else:\n",
        "        sentiment_labels.append(\"Neutral\")\n",
        "\n",
        "# Create a DataFrame to store results\n",
        "results = pd.DataFrame({\"Review\": reviews, \"Sentiment\": sentiment_labels, \"Sentiment Score\": sentiments})\n",
        "\n",
        "# Print the results\n",
        "print(results)\n"
      ],
      "metadata": {
        "colab": {
          "base_uri": "https://localhost:8080/"
        },
        "id": "RQoEaE8iG65F",
        "outputId": "ab9b9c7b-fc58-4379-ce79-e416932591b9"
      },
      "execution_count": null,
      "outputs": [
        {
          "output_type": "stream",
          "name": "stdout",
          "text": [
            "                                           Review Sentiment  Sentiment Score\n",
            "0              I love this product! It's amazing.  Positive         0.612500\n",
            "1  The quality is really poor. Very disappointed.  Negative        -0.687500\n",
            "2            Average experience, nothing special.  Positive         0.103571\n",
            "3                      Great value for the price.  Positive         0.800000\n"
          ]
        }
      ]
    }
  ]
}